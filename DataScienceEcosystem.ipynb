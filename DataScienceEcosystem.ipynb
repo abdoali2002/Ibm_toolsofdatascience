{
  "nbformat": 4,
  "nbformat_minor": 0,
  "metadata": {
    "colab": {
      "provenance": [],
      "toc_visible": true,
      "authorship_tag": "ABX9TyPVRi3SyfbVxD8pFOVPPnVQ",
      "include_colab_link": true
    },
    "kernelspec": {
      "name": "python3",
      "display_name": "Python 3"
    },
    "language_info": {
      "name": "python"
    }
  },
  "cells": [
    {
      "cell_type": "markdown",
      "metadata": {
        "id": "view-in-github",
        "colab_type": "text"
      },
      "source": [
        "<a href=\"https://colab.research.google.com/github/abdoali2002/Ibm_toolsofdatascience/blob/main/DataScienceEcosystem.ipynb\" target=\"_parent\"><img src=\"https://colab.research.google.com/assets/colab-badge.svg\" alt=\"Open In Colab\"/></a>"
      ]
    },
    {
      "cell_type": "markdown",
      "source": [
        "# Title of the notebook :Data Science Tools and Ecosystem"
      ],
      "metadata": {
        "id": "IcrBTW6a3hhI"
      }
    },
    {
      "cell_type": "markdown",
      "source": [
        "In this notebook, Data Science Tools and Ecosystem are summarized."
      ],
      "metadata": {
        "id": "kZ0LOT0G4DvS"
      }
    },
    {
      "cell_type": "markdown",
      "source": [
        "Some of the popular languages that Data Scientists use are:\n",
        "\n",
        "1.   R\n",
        "2.   Python\n",
        "\n",
        "1.   C++\n",
        "2.   Java\n",
        "\n",
        "\n",
        "\n"
      ],
      "metadata": {
        "id": "i9j1tKVl4I5g"
      }
    },
    {
      "cell_type": "markdown",
      "source": [
        "Some of the commonly used libraries used by Data Scientists include:\n",
        "\n",
        "*   Pandas\n",
        "\n",
        "*   Numpy\n",
        "\n",
        "*   Matplotlib\n",
        "*   Seaborn\n",
        "\n",
        "\n",
        "*   Scikit-learn\n",
        "\n",
        "\n",
        "*   Keras\n",
        "\n"
      ],
      "metadata": {
        "id": "Kn-vPy3r4dUC"
      }
    },
    {
      "cell_type": "markdown",
      "source": [
        "\n",
        "|Data Science tools|\n",
        "| --- |\n",
        "| Anaconda |\n",
        "| Rstuido |\n",
        "| spyder |\n",
        "\n",
        "\n",
        "\n",
        "\n",
        "\n",
        "\n",
        "\n",
        "\n"
      ],
      "metadata": {
        "id": "a-WY2BsG6yAo"
      }
    },
    {
      "cell_type": "markdown",
      "source": [
        "### evaluating arithmetic expressions in Python"
      ],
      "metadata": {
        "id": "j2dK5itB9E06"
      }
    },
    {
      "cell_type": "code",
      "source": [
        "x = int(input(\"Please insert the first integer number of the sum > \"))\n",
        "print(x)\n",
        "y = int(input(\"Please insert the second integer number of the sum > \"))\n",
        "print(y)\n",
        "\n",
        "sum = x + y\n",
        "\n",
        "print(\"The total is \" + str(sum))"
      ],
      "metadata": {
        "id": "ATWs2u3-9KH_",
        "colab": {
          "base_uri": "https://localhost:8080/"
        },
        "outputId": "724db6d3-8e1e-47db-9c86-db19583c1e17"
      },
      "execution_count": 1,
      "outputs": [
        {
          "output_type": "stream",
          "name": "stdout",
          "text": [
            "Please insert the first integer number of the sum > 2\n",
            "2\n",
            "Please insert the second integer number of the sum > 3\n",
            "3\n",
            "The total is 5\n"
          ]
        }
      ]
    },
    {
      "cell_type": "markdown",
      "source": [
        "### **The Following Code will Display today's time and date**"
      ],
      "metadata": {
        "id": "DnoE6nOE9-nK"
      }
    },
    {
      "cell_type": "code",
      "source": [
        "import datetime\n",
        "message = \"Today's Date and Time is \"\n",
        "print (message , datetime.datetime.now() )"
      ],
      "metadata": {
        "colab": {
          "base_uri": "https://localhost:8080/"
        },
        "id": "HxJhjXTv-FfB",
        "outputId": "2251d387-c8ef-44aa-b008-979d0d9d3e06"
      },
      "execution_count": 2,
      "outputs": [
        {
          "output_type": "stream",
          "name": "stdout",
          "text": [
            "Today's Date and Time is  2024-02-03 21:55:54.408027\n"
          ]
        }
      ]
    },
    {
      "cell_type": "markdown",
      "source": [
        "##Author(s)\n",
        "Abdelrahman\n",
        "Ali"
      ],
      "metadata": {
        "id": "9u6sooaB-jSW"
      }
    },
    {
      "cell_type": "markdown",
      "source": [
        "[Github](https://https://github.com/abdoali2002)"
      ],
      "metadata": {
        "id": "wMqo0BZk_zrP"
      }
    }
  ]
}